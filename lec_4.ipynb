{
 "cells": [
  {
   "cell_type": "code",
   "execution_count": 2,
   "metadata": {},
   "outputs": [
    {
     "name": "stdout",
     "output_type": "stream",
     "text": [
      "my text is very messed up and so \n",
      "text messed\n"
     ]
    }
   ],
   "source": [
    "#nltk stop words\n",
    "#what are stopwords? --> common terms, add little to no value to specific document classifications\n",
    "from nltk.corpus import stopwords\n",
    "import re\n",
    "stop_words = set(stopwords.words('english'))\n",
    "\n",
    "test = \"my %text is very& ^*&messed up* and so (*^)\"\n",
    "\n",
    "#recall the text clean up code we created?\n",
    "def clean_up(var):\n",
    "    tmp = re.sub('[^a-zA-Z]+', ' ', var)\n",
    "    return tmp\n",
    "\n",
    "\n",
    "print (clean_up(test))\n",
    "\n",
    "#recall the text clean up code we created?\n",
    "def clean_up_sw(var):\n",
    "    tmp = re.sub('[^a-zA-Z]+', ' ', var)\n",
    "    tmp = [word for word in tmp.split() if word not in stop_words]\n",
    "    tmp = ' '.join(tmp)\n",
    "    return tmp\n",
    "\n",
    "print (clean_up_sw(test))\n"
   ]
  },
  {
   "cell_type": "code",
   "execution_count": 3,
   "metadata": {},
   "outputs": [
    {
     "name": "stdout",
     "output_type": "stream",
     "text": [
      "['fishing', 'hiking', 'machinelearning', 'mathematics']\n",
      "                                           file_name    label\n",
      "0  0,4570,7-153-10364-34956--,00.html_12180052900...  fishing\n",
      "1                          2347.htm_121805687000.txt  fishing\n",
      "2                        3ways.html_121816046000.txt  fishing\n",
      "3  46-bait-and-tackle-palisades-park_121721321000...  fishing\n",
      "4  5-rescued-from-capsized-sport-fishing-boat-at-...  fishing\n"
     ]
    }
   ],
   "source": [
    "#recall from last week\n",
    "import os\n",
    "import pandas as pd\n",
    "the_path = 'C:/Users/pathouli/myStuff/academia/columbia/socialSciences/GR5067/data/topics/'\n",
    "the_dirs = os.listdir(the_path)\n",
    "print (the_dirs)\n",
    "\n",
    "the_files = os.listdir(the_path + the_dirs[0])\n",
    "the_file_names = pd.DataFrame()\n",
    "for word in the_files:\n",
    "    the_file_names = the_file_names.append({'file_name': word, 'label': the_dirs[0]}, ignore_index=True)\n",
    "    \n",
    "print(the_file_names.head())"
   ]
  },
  {
   "cell_type": "code",
   "execution_count": 4,
   "metadata": {},
   "outputs": [
    {
     "name": "stdout",
     "output_type": "stream",
     "text": [
      "                                                body    label\n",
      "0  DNR - Weekly Fishing Report\\nDNR Home Contact ...  fishing\n",
      "1  DNR: Fishing Guide & Regulations\\nÃ Ã Header...  fishing\n",
      "2  NH Hunting and Fishing Licenses | New Hampshir...  fishing\n",
      "3  46 Bait & Tackle - CLOSED - Outdoor Gear - 22 ...  fishing\n",
      "4  5 rescued from capsized sport fishing boat at ...  fishing\n"
     ]
    }
   ],
   "source": [
    "#IN-CLASS EXERCISE; in lieu of the filename, do the same as above, but just read the text in\n",
    "#and CLEAN it up, below is starter code to get you pointed in the right direction\n",
    "import os\n",
    "import pandas as pd\n",
    "t_path = 'C:/Users/pathouli/myStuff/academia/columbia/socialSciences/GR5067/data/topics/'\n",
    "\n",
    "the_df = pd.DataFrame()\n",
    "for dir_name in the_dirs:\n",
    "    the_filenames = os.listdir(the_path + dir_name)\n",
    "    for word in the_filenames:\n",
    "        f = open(t_path + dir_name + '/' + word, \"r\", encoding='ISO-8859-1')\n",
    "        tmp_read = str(f.read())#.encode('ISO-8859-1'))\n",
    "        tmp = pd.DataFrame([tmp_read], columns=['body'])\n",
    "        tmp['label'] = dir_name\n",
    "        the_df = the_df.append(tmp, ignore_index=True)\n",
    "        f.close()\n",
    "print (the_df.head())"
   ]
  },
  {
   "cell_type": "code",
   "execution_count": 6,
   "metadata": {},
   "outputs": [
    {
     "name": "stdout",
     "output_type": "stream",
     "text": [
      "                                                     0            1\n",
      "0    DNR Weekly Fishing Report DNR Home Contact DNR...      fishing\n",
      "1    DNR Fishing Guide Regulations Header IN gov Ma...      fishing\n",
      "2    NH Hunting and Fishing Licenses New Hampshire ...      fishing\n",
      "3     Bait Tackle CLOSED Outdoor Gear E Columbia Av...      fishing\n",
      "4     rescued from capsized sport fishing boat at N...      fishing\n",
      "5    A reel fish story Westfield boy receives award...      fishing\n",
      "6    BASS Fishing Bassmaster com Home Tips Gear Ang...      fishing\n",
      "7    Commentary Increasing access to hunting fishin...      fishing\n",
      "8    Get your Deep Sea Fishing Trip Tickets Daveys ...      fishing\n",
      "9     Pennsylvania Fish Boat Commission Homepage PF...      fishing\n",
      "10   Fishing in Alabama State Parks Alapark About C...      fishing\n",
      "11   Fishing in Alabama Outdoor Alabama About Us Co...      fishing\n",
      "12   Fishing Gear Tackle DICK S Sporting Goods Mess...      fishing\n",
      "13   Fishing in the City Home Fishing Hunting Licen...      fishing\n",
      "14   Fishing Reports Home signup signup signup Hunt...      fishing\n",
      "15   Fishing NYS Dept of Environmental Conservation...      fishing\n",
      "16   Fishing Palisades Interstate Park in New Jerse...      fishing\n",
      "17   SCDNR Fishing Information Buy Boating Educatio...      fishing\n",
      "18   Fishing Permits License Endorsements Washingto...      fishing\n",
      "19   Fishing Tackle SHIMANO Fishing Tackle Fishing ...      fishing\n",
      "20   NJDEP Division of Fish Wildlife Fishing in New...      fishing\n",
      "21   Fishing Yellowstone National Park U S National...      fishing\n",
      "22   Fishing NYC Resources Office of the Mayor Sele...      fishing\n",
      "23   Colorado Parks Wildlife Fishing Report COLORAD...      fishing\n",
      "24   Fishing Wikipedia Fishing Contents History Tra...      fishing\n",
      "25   Fishing Pictures Images and Stock Photos iStoc...      fishing\n",
      "26   Fishing my subreddits popular AskReddit Fishin...      fishing\n",
      "27   Fishing KDWPT KDWPT Main Menu Search Hunting F...      fishing\n",
      "28   Fishing Fishing Tackle Supplies Equipment Acad...      fishing\n",
      "29   Fishing GrindTV com A Property of GrindTV com ...      fishing\n",
      "..                                                 ...          ...\n",
      "232  Mathematics Quora Submit any pending changes b...  mathematics\n",
      "233  mathematics Wiktionary mathematics Contents En...  mathematics\n",
      "234  Mathematics Undergraduate Study Study at Cambr...  mathematics\n",
      "235  WMI Warwick Mathematics Institute Study Resear...  mathematics\n",
      "236  Mathematics UCL Home Prospective students Curr...  mathematics\n",
      "237  Wolfram MathWorld The Web s Most Extensive Mat...  mathematics\n",
      "238  Mathematics Standards Common Core State Standa...  mathematics\n",
      "239  Mathematics Department Mathematics Faculty and...  mathematics\n",
      "240  Mathematics www pma caltech edu Visit Director...  mathematics\n",
      "241  Mathematics College of Science and Engineering...  mathematics\n",
      "242  National Museum of Mathematics Home Visit Exhi...  mathematics\n",
      "243                                                     mathematics\n",
      "244  Quantity Wikipedia Quantity Along with analyzi...  mathematics\n",
      "245  Why Math Is the Best Way to Make Sense of the ...  mathematics\n",
      "246  Why study of mathematics is important WAEC Reg...  mathematics\n",
      "247  Department of Mathematics Home Home About Us B...  mathematics\n",
      "248  American Mathematical Society Homepage America...  mathematics\n",
      "249  UT Mathematics The University of Texas at Aust...  mathematics\n",
      "250  Homepage Mathematical Association of America H...  mathematics\n",
      "251  www math cornell edu Department of Mathematics...  mathematics\n",
      "252  Harvard Mathematics Department Home page Home ...  mathematics\n",
      "253  Department of Mathematics Department of Mathem...  mathematics\n",
      "254  Welcome Rutgers Home SAS Home Search Rutgers I...  mathematics\n",
      "255  Stony Brook Mathematics Department and Institu...  mathematics\n",
      "256  UCLA Department of Mathematics Search form Sea...  mathematics\n",
      "257  UC Santa Cruz Mathematics Department Skip to m...  mathematics\n",
      "258  Department of Mathematics Van Vleck Hall Linco...  mathematics\n",
      "259  Department of Mathematics University of Pittsb...  mathematics\n",
      "260  SIAM Society for Industrial and Applied Mathem...  mathematics\n",
      "261  Yasiin Bey Mathematics Lyrics Genius Lyrics Fa...  mathematics\n",
      "\n",
      "[262 rows x 2 columns]\n"
     ]
    }
   ],
   "source": [
    "#how about a lambda function to do it all in one swoop?\n",
    "my_df_new_tmp_no_sw = pd.DataFrame(map(lambda x, y: (clean_up(x), y), the_df.body, the_df.label))\n",
    "print (my_df_new_tmp_no_sw)"
   ]
  },
  {
   "cell_type": "code",
   "execution_count": null,
   "metadata": {},
   "outputs": [],
   "source": []
  }
 ],
 "metadata": {
  "kernelspec": {
   "display_name": "Python 3",
   "language": "python",
   "name": "python3"
  },
  "language_info": {
   "codemirror_mode": {
    "name": "ipython",
    "version": 3
   },
   "file_extension": ".py",
   "mimetype": "text/x-python",
   "name": "python",
   "nbconvert_exporter": "python",
   "pygments_lexer": "ipython3",
   "version": "3.7.3"
  }
 },
 "nbformat": 4,
 "nbformat_minor": 2
}
